{
 "cells": [
  {
   "cell_type": "code",
   "execution_count": 1,
   "metadata": {
    "id": "bJAl-vDsX0Jw"
   },
   "outputs": [],
   "source": [
    "# importing required libraries for assignment 5 here\n",
    "import numpy as np\n",
    "import matplotlib.pyplot as plt\n",
    "import pandas as pd\n",
    "import seaborn as sns\n",
    "from sklearn import preprocessing, metrics\n",
    "from sklearn.preprocessing import StandardScaler, LabelEncoder\n",
    "from sklearn.model_selection import train_test_split\n",
    "from sklearn.metrics import accuracy_score, classification_report, confusion_matrix\n",
    "from sklearn.decomposition import PCA\n",
    "from sklearn.cluster import KMeans\n",
    "sns.set(style=\"white\", color_codes=True)\n",
    "import warnings\n",
    "warnings.filterwarnings(\"ignore\")"
   ]
  },
  {
   "cell_type": "code",
   "execution_count": 1,
   "metadata": {
    "colab": {
     "base_uri": "https://localhost:8080/"
    },
    "id": "2lptfOxEYBZC",
    "outputId": "aa4cb1b8-e3f1-4046-b4f8-9f069c14f2bc"
   },
   "outputs": [
    {
     "ename": "NameError",
     "evalue": "name 'pd' is not defined",
     "output_type": "error",
     "traceback": [
      "\u001b[1;31m---------------------------------------------------------------------------\u001b[0m",
      "\u001b[1;31mNameError\u001b[0m                                 Traceback (most recent call last)",
      "Cell \u001b[1;32mIn [1], line 1\u001b[0m\n\u001b[1;32m----> 1\u001b[0m dataset_CC \u001b[38;5;241m=\u001b[39m \u001b[43mpd\u001b[49m\u001b[38;5;241m.\u001b[39mread_csv(\u001b[38;5;124m'\u001b[39m\u001b[38;5;124m./CC.csv\u001b[39m\u001b[38;5;124m'\u001b[39m)\n\u001b[0;32m      2\u001b[0m dataset_CC\u001b[38;5;241m.\u001b[39minfo()\n",
      "\u001b[1;31mNameError\u001b[0m: name 'pd' is not defined"
     ]
    }
   ],
   "source": [
    "dataset_CC = pd.read_csv('./CC.csv')\n",
    "dataset_CC.info()"
   ]
  },
  {
   "cell_type": "code",
   "execution_count": 3,
   "metadata": {
    "colab": {
     "base_uri": "https://localhost:8080/",
     "height": 256
    },
    "id": "xk_lhTxnYvpw",
    "outputId": "fe70a856-d3e2-4b07-8b70-e63cfe7d8a0d"
   },
   "outputs": [
    {
     "data": {
      "text/html": [
       "<div>\n",
       "<style scoped>\n",
       "    .dataframe tbody tr th:only-of-type {\n",
       "        vertical-align: middle;\n",
       "    }\n",
       "\n",
       "    .dataframe tbody tr th {\n",
       "        vertical-align: top;\n",
       "    }\n",
       "\n",
       "    .dataframe thead th {\n",
       "        text-align: right;\n",
       "    }\n",
       "</style>\n",
       "<table border=\"1\" class=\"dataframe\">\n",
       "  <thead>\n",
       "    <tr style=\"text-align: right;\">\n",
       "      <th></th>\n",
       "      <th>CUST_ID</th>\n",
       "      <th>BALANCE</th>\n",
       "      <th>BALANCE_FREQUENCY</th>\n",
       "      <th>PURCHASES</th>\n",
       "      <th>ONEOFF_PURCHASES</th>\n",
       "      <th>INSTALLMENTS_PURCHASES</th>\n",
       "      <th>CASH_ADVANCE</th>\n",
       "      <th>PURCHASES_FREQUENCY</th>\n",
       "      <th>ONEOFF_PURCHASES_FREQUENCY</th>\n",
       "      <th>PURCHASES_INSTALLMENTS_FREQUENCY</th>\n",
       "      <th>CASH_ADVANCE_FREQUENCY</th>\n",
       "      <th>CASH_ADVANCE_TRX</th>\n",
       "      <th>PURCHASES_TRX</th>\n",
       "      <th>CREDIT_LIMIT</th>\n",
       "      <th>PAYMENTS</th>\n",
       "      <th>MINIMUM_PAYMENTS</th>\n",
       "      <th>PRC_FULL_PAYMENT</th>\n",
       "      <th>TENURE</th>\n",
       "    </tr>\n",
       "  </thead>\n",
       "  <tbody>\n",
       "    <tr>\n",
       "      <th>0</th>\n",
       "      <td>C10001</td>\n",
       "      <td>40.900749</td>\n",
       "      <td>0.818182</td>\n",
       "      <td>95.40</td>\n",
       "      <td>0.00</td>\n",
       "      <td>95.4</td>\n",
       "      <td>0.000000</td>\n",
       "      <td>0.166667</td>\n",
       "      <td>0.000000</td>\n",
       "      <td>0.083333</td>\n",
       "      <td>0.000000</td>\n",
       "      <td>0</td>\n",
       "      <td>2</td>\n",
       "      <td>1000.0</td>\n",
       "      <td>201.802084</td>\n",
       "      <td>139.509787</td>\n",
       "      <td>0.000000</td>\n",
       "      <td>12</td>\n",
       "    </tr>\n",
       "    <tr>\n",
       "      <th>1</th>\n",
       "      <td>C10002</td>\n",
       "      <td>3202.467416</td>\n",
       "      <td>0.909091</td>\n",
       "      <td>0.00</td>\n",
       "      <td>0.00</td>\n",
       "      <td>0.0</td>\n",
       "      <td>6442.945483</td>\n",
       "      <td>0.000000</td>\n",
       "      <td>0.000000</td>\n",
       "      <td>0.000000</td>\n",
       "      <td>0.250000</td>\n",
       "      <td>4</td>\n",
       "      <td>0</td>\n",
       "      <td>7000.0</td>\n",
       "      <td>4103.032597</td>\n",
       "      <td>1072.340217</td>\n",
       "      <td>0.222222</td>\n",
       "      <td>12</td>\n",
       "    </tr>\n",
       "    <tr>\n",
       "      <th>2</th>\n",
       "      <td>C10003</td>\n",
       "      <td>2495.148862</td>\n",
       "      <td>1.000000</td>\n",
       "      <td>773.17</td>\n",
       "      <td>773.17</td>\n",
       "      <td>0.0</td>\n",
       "      <td>0.000000</td>\n",
       "      <td>1.000000</td>\n",
       "      <td>1.000000</td>\n",
       "      <td>0.000000</td>\n",
       "      <td>0.000000</td>\n",
       "      <td>0</td>\n",
       "      <td>12</td>\n",
       "      <td>7500.0</td>\n",
       "      <td>622.066742</td>\n",
       "      <td>627.284787</td>\n",
       "      <td>0.000000</td>\n",
       "      <td>12</td>\n",
       "    </tr>\n",
       "    <tr>\n",
       "      <th>3</th>\n",
       "      <td>C10004</td>\n",
       "      <td>1666.670542</td>\n",
       "      <td>0.636364</td>\n",
       "      <td>1499.00</td>\n",
       "      <td>1499.00</td>\n",
       "      <td>0.0</td>\n",
       "      <td>205.788017</td>\n",
       "      <td>0.083333</td>\n",
       "      <td>0.083333</td>\n",
       "      <td>0.000000</td>\n",
       "      <td>0.083333</td>\n",
       "      <td>1</td>\n",
       "      <td>1</td>\n",
       "      <td>7500.0</td>\n",
       "      <td>0.000000</td>\n",
       "      <td>NaN</td>\n",
       "      <td>0.000000</td>\n",
       "      <td>12</td>\n",
       "    </tr>\n",
       "    <tr>\n",
       "      <th>4</th>\n",
       "      <td>C10005</td>\n",
       "      <td>817.714335</td>\n",
       "      <td>1.000000</td>\n",
       "      <td>16.00</td>\n",
       "      <td>16.00</td>\n",
       "      <td>0.0</td>\n",
       "      <td>0.000000</td>\n",
       "      <td>0.083333</td>\n",
       "      <td>0.083333</td>\n",
       "      <td>0.000000</td>\n",
       "      <td>0.000000</td>\n",
       "      <td>0</td>\n",
       "      <td>1</td>\n",
       "      <td>1200.0</td>\n",
       "      <td>678.334763</td>\n",
       "      <td>244.791237</td>\n",
       "      <td>0.000000</td>\n",
       "      <td>12</td>\n",
       "    </tr>\n",
       "  </tbody>\n",
       "</table>\n",
       "</div>"
      ],
      "text/plain": [
       "  CUST_ID      BALANCE  BALANCE_FREQUENCY  PURCHASES  ONEOFF_PURCHASES  \\\n",
       "0  C10001    40.900749           0.818182      95.40              0.00   \n",
       "1  C10002  3202.467416           0.909091       0.00              0.00   \n",
       "2  C10003  2495.148862           1.000000     773.17            773.17   \n",
       "3  C10004  1666.670542           0.636364    1499.00           1499.00   \n",
       "4  C10005   817.714335           1.000000      16.00             16.00   \n",
       "\n",
       "   INSTALLMENTS_PURCHASES  CASH_ADVANCE  PURCHASES_FREQUENCY  \\\n",
       "0                    95.4      0.000000             0.166667   \n",
       "1                     0.0   6442.945483             0.000000   \n",
       "2                     0.0      0.000000             1.000000   \n",
       "3                     0.0    205.788017             0.083333   \n",
       "4                     0.0      0.000000             0.083333   \n",
       "\n",
       "   ONEOFF_PURCHASES_FREQUENCY  PURCHASES_INSTALLMENTS_FREQUENCY  \\\n",
       "0                    0.000000                          0.083333   \n",
       "1                    0.000000                          0.000000   \n",
       "2                    1.000000                          0.000000   \n",
       "3                    0.083333                          0.000000   \n",
       "4                    0.083333                          0.000000   \n",
       "\n",
       "   CASH_ADVANCE_FREQUENCY  CASH_ADVANCE_TRX  PURCHASES_TRX  CREDIT_LIMIT  \\\n",
       "0                0.000000                 0              2        1000.0   \n",
       "1                0.250000                 4              0        7000.0   \n",
       "2                0.000000                 0             12        7500.0   \n",
       "3                0.083333                 1              1        7500.0   \n",
       "4                0.000000                 0              1        1200.0   \n",
       "\n",
       "      PAYMENTS  MINIMUM_PAYMENTS  PRC_FULL_PAYMENT  TENURE  \n",
       "0   201.802084        139.509787          0.000000      12  \n",
       "1  4103.032597       1072.340217          0.222222      12  \n",
       "2   622.066742        627.284787          0.000000      12  \n",
       "3     0.000000               NaN          0.000000      12  \n",
       "4   678.334763        244.791237          0.000000      12  "
      ]
     },
     "execution_count": 3,
     "metadata": {},
     "output_type": "execute_result"
    }
   ],
   "source": [
    "dataset_CC.head()"
   ]
  },
  {
   "cell_type": "code",
   "execution_count": 4,
   "metadata": {
    "colab": {
     "base_uri": "https://localhost:8080/"
    },
    "id": "5ttjgbVEY5g3",
    "outputId": "43068e9f-199c-4451-91de-65902e31465d"
   },
   "outputs": [
    {
     "data": {
      "text/plain": [
       "CUST_ID                             False\n",
       "BALANCE                             False\n",
       "BALANCE_FREQUENCY                   False\n",
       "PURCHASES                           False\n",
       "ONEOFF_PURCHASES                    False\n",
       "INSTALLMENTS_PURCHASES              False\n",
       "CASH_ADVANCE                        False\n",
       "PURCHASES_FREQUENCY                 False\n",
       "ONEOFF_PURCHASES_FREQUENCY          False\n",
       "PURCHASES_INSTALLMENTS_FREQUENCY    False\n",
       "CASH_ADVANCE_FREQUENCY              False\n",
       "CASH_ADVANCE_TRX                    False\n",
       "PURCHASES_TRX                       False\n",
       "CREDIT_LIMIT                         True\n",
       "PAYMENTS                            False\n",
       "MINIMUM_PAYMENTS                     True\n",
       "PRC_FULL_PAYMENT                    False\n",
       "TENURE                              False\n",
       "dtype: bool"
      ]
     },
     "execution_count": 4,
     "metadata": {},
     "output_type": "execute_result"
    }
   ],
   "source": [
    "dataset_CC.isnull().any()"
   ]
  },
  {
   "cell_type": "code",
   "execution_count": 5,
   "metadata": {
    "colab": {
     "base_uri": "https://localhost:8080/"
    },
    "id": "J3K-GhX2Y9L1",
    "outputId": "4ed74928-3f90-4209-f1fb-2155d7437210"
   },
   "outputs": [
    {
     "data": {
      "text/plain": [
       "CUST_ID                             False\n",
       "BALANCE                             False\n",
       "BALANCE_FREQUENCY                   False\n",
       "PURCHASES                           False\n",
       "ONEOFF_PURCHASES                    False\n",
       "INSTALLMENTS_PURCHASES              False\n",
       "CASH_ADVANCE                        False\n",
       "PURCHASES_FREQUENCY                 False\n",
       "ONEOFF_PURCHASES_FREQUENCY          False\n",
       "PURCHASES_INSTALLMENTS_FREQUENCY    False\n",
       "CASH_ADVANCE_FREQUENCY              False\n",
       "CASH_ADVANCE_TRX                    False\n",
       "PURCHASES_TRX                       False\n",
       "CREDIT_LIMIT                        False\n",
       "PAYMENTS                            False\n",
       "MINIMUM_PAYMENTS                    False\n",
       "PRC_FULL_PAYMENT                    False\n",
       "TENURE                              False\n",
       "dtype: bool"
      ]
     },
     "execution_count": 5,
     "metadata": {},
     "output_type": "execute_result"
    }
   ],
   "source": [
    "dataset_CC.fillna(dataset_CC.mean(), inplace=True)\n",
    "dataset_CC.isnull().any()"
   ]
  },
  {
   "cell_type": "code",
   "execution_count": 6,
   "metadata": {
    "colab": {
     "base_uri": "https://localhost:8080/"
    },
    "id": "0Vkjs24yZBJM",
    "outputId": "91fce0b5-2cf4-443a-a3e5-3b3ec7bb8909"
   },
   "outputs": [
    {
     "name": "stdout",
     "output_type": "stream",
     "text": [
      "(8950, 16) (8950,)\n"
     ]
    }
   ],
   "source": [
    "x = dataset_CC.iloc[:,1:-1]\n",
    "y = dataset_CC.iloc[:,-1]\n",
    "print(x.shape,y.shape)"
   ]
  },
  {
   "cell_type": "code",
   "execution_count": 7,
   "metadata": {
    "colab": {
     "base_uri": "https://localhost:8080/",
     "height": 204
    },
    "id": "ucDBNBoaZFD_",
    "outputId": "8a3ecff9-6f26-419c-8ef6-9cbb2af2e880"
   },
   "outputs": [
    {
     "data": {
      "text/html": [
       "<div>\n",
       "<style scoped>\n",
       "    .dataframe tbody tr th:only-of-type {\n",
       "        vertical-align: middle;\n",
       "    }\n",
       "\n",
       "    .dataframe tbody tr th {\n",
       "        vertical-align: top;\n",
       "    }\n",
       "\n",
       "    .dataframe thead th {\n",
       "        text-align: right;\n",
       "    }\n",
       "</style>\n",
       "<table border=\"1\" class=\"dataframe\">\n",
       "  <thead>\n",
       "    <tr style=\"text-align: right;\">\n",
       "      <th></th>\n",
       "      <th>principal component 1</th>\n",
       "      <th>principal component 2</th>\n",
       "      <th>principal component 3</th>\n",
       "      <th>TENURE</th>\n",
       "    </tr>\n",
       "  </thead>\n",
       "  <tbody>\n",
       "    <tr>\n",
       "      <th>0</th>\n",
       "      <td>-4326.383979</td>\n",
       "      <td>921.566882</td>\n",
       "      <td>183.708383</td>\n",
       "      <td>12</td>\n",
       "    </tr>\n",
       "    <tr>\n",
       "      <th>1</th>\n",
       "      <td>4118.916665</td>\n",
       "      <td>-2432.846346</td>\n",
       "      <td>2369.969289</td>\n",
       "      <td>12</td>\n",
       "    </tr>\n",
       "    <tr>\n",
       "      <th>2</th>\n",
       "      <td>1497.907641</td>\n",
       "      <td>-1997.578694</td>\n",
       "      <td>-2125.631328</td>\n",
       "      <td>12</td>\n",
       "    </tr>\n",
       "    <tr>\n",
       "      <th>3</th>\n",
       "      <td>1394.548536</td>\n",
       "      <td>-1488.743453</td>\n",
       "      <td>-2431.799649</td>\n",
       "      <td>12</td>\n",
       "    </tr>\n",
       "    <tr>\n",
       "      <th>4</th>\n",
       "      <td>-3743.351896</td>\n",
       "      <td>757.342657</td>\n",
       "      <td>512.476492</td>\n",
       "      <td>12</td>\n",
       "    </tr>\n",
       "  </tbody>\n",
       "</table>\n",
       "</div>"
      ],
      "text/plain": [
       "   principal component 1  principal component 2  principal component 3  TENURE\n",
       "0           -4326.383979             921.566882             183.708383      12\n",
       "1            4118.916665           -2432.846346            2369.969289      12\n",
       "2            1497.907641           -1997.578694           -2125.631328      12\n",
       "3            1394.548536           -1488.743453           -2431.799649      12\n",
       "4           -3743.351896             757.342657             512.476492      12"
      ]
     },
     "execution_count": 7,
     "metadata": {},
     "output_type": "execute_result"
    }
   ],
   "source": [
    "pca = PCA(3)\n",
    "x_pca = pca.fit_transform(x)\n",
    "principalDf = pd.DataFrame(data = x_pca, columns = ['principal component 1', 'principal component 2', 'principal component 3'])\n",
    "finalDf = pd.concat([principalDf, dataset_CC.iloc[:,-1]], axis = 1)\n",
    "finalDf.head()"
   ]
  },
  {
   "cell_type": "code",
   "execution_count": 8,
   "metadata": {
    "id": "7y1Sc90rZOP9"
   },
   "outputs": [],
   "source": [
    "X = finalDf.iloc[:,0:-1]\n",
    "y = finalDf.iloc[:,-1]"
   ]
  },
  {
   "cell_type": "code",
   "execution_count": 9,
   "metadata": {
    "colab": {
     "base_uri": "https://localhost:8080/"
    },
    "id": "cyNQ6cncZUz-",
    "outputId": "4dfe5eda-f5b4-4398-e852-da408136bc24"
   },
   "outputs": [
    {
     "name": "stdout",
     "output_type": "stream",
     "text": [
      "              precision    recall  f1-score   support\n",
      "\n",
      "           0       0.00      1.00      0.00       0.0\n",
      "           1       0.00      1.00      0.00       0.0\n",
      "           2       0.00      1.00      0.00       0.0\n",
      "           6       1.00      0.00      0.00     204.0\n",
      "           7       1.00      0.00      0.00     190.0\n",
      "           8       1.00      0.00      0.00     196.0\n",
      "           9       1.00      0.00      0.00     175.0\n",
      "          10       1.00      0.00      0.00     236.0\n",
      "          11       1.00      0.00      0.00     365.0\n",
      "          12       1.00      0.00      0.00    7584.0\n",
      "\n",
      "    accuracy                           0.00    8950.0\n",
      "   macro avg       0.70      0.30      0.00    8950.0\n",
      "weighted avg       1.00      0.00      0.00    8950.0\n",
      "\n",
      "[[   0    0    0    0    0    0    0    0    0    0]\n",
      " [   0    0    0    0    0    0    0    0    0    0]\n",
      " [   0    0    0    0    0    0    0    0    0    0]\n",
      " [ 175   28    1    0    0    0    0    0    0    0]\n",
      " [ 173   15    2    0    0    0    0    0    0    0]\n",
      " [ 169   27    0    0    0    0    0    0    0    0]\n",
      " [ 149   26    0    0    0    0    0    0    0    0]\n",
      " [ 188   47    1    0    0    0    0    0    0    0]\n",
      " [ 284   78    3    0    0    0    0    0    0    0]\n",
      " [5390 2068  126    0    0    0    0    0    0    0]]\n",
      "\n",
      "Accuracy for our Training dataset with PCA: 0.0\n",
      "Sihouette Score:  0.510976975012126\n"
     ]
    }
   ],
   "source": [
    "nclusters = 3 # this is the k in kmeans\n",
    "km = KMeans(n_clusters=nclusters)\n",
    "km.fit(X)\n",
    "\n",
    "# predict the cluster for each data point\n",
    "y_cluster_kmeans = km.predict(X)\n",
    "\n",
    "\n",
    "# Summary of the predictions made by the classifier\n",
    "print(classification_report(y, y_cluster_kmeans, zero_division=1))\n",
    "print(confusion_matrix(y, y_cluster_kmeans))\n",
    "\n",
    "\n",
    "train_accuracy = accuracy_score(y, y_cluster_kmeans)\n",
    "print(\"\\nAccuracy for our Training dataset with PCA:\", train_accuracy)\n",
    "\n",
    "\n",
    "#Calculate sihouette Score\n",
    "score = metrics.silhouette_score(X, y_cluster_kmeans)\n",
    "print(\"Sihouette Score: \",score)"
   ]
  },
  {
   "cell_type": "code",
   "execution_count": 10,
   "metadata": {
    "colab": {
     "base_uri": "https://localhost:8080/"
    },
    "id": "2ux-xXNiZU-8",
    "outputId": "458df0e1-7b7a-42d5-a358-cffffce4e6d6"
   },
   "outputs": [
    {
     "name": "stdout",
     "output_type": "stream",
     "text": [
      "(8950, 16) (8950,)\n"
     ]
    }
   ],
   "source": [
    "x = dataset_CC.iloc[:,1:-1]\n",
    "y = dataset_CC.iloc[:,-1]\n",
    "print(x.shape,y.shape)"
   ]
  },
  {
   "cell_type": "code",
   "execution_count": 11,
   "metadata": {
    "colab": {
     "base_uri": "https://localhost:8080/",
     "height": 204
    },
    "id": "kZSVM8jGZjkA",
    "outputId": "dd0c3958-ef23-49c2-d95a-97308dca3e0d"
   },
   "outputs": [
    {
     "data": {
      "text/html": [
       "<div>\n",
       "<style scoped>\n",
       "    .dataframe tbody tr th:only-of-type {\n",
       "        vertical-align: middle;\n",
       "    }\n",
       "\n",
       "    .dataframe tbody tr th {\n",
       "        vertical-align: top;\n",
       "    }\n",
       "\n",
       "    .dataframe thead th {\n",
       "        text-align: right;\n",
       "    }\n",
       "</style>\n",
       "<table border=\"1\" class=\"dataframe\">\n",
       "  <thead>\n",
       "    <tr style=\"text-align: right;\">\n",
       "      <th></th>\n",
       "      <th>principal component 1</th>\n",
       "      <th>principal component 2</th>\n",
       "      <th>principal component 3</th>\n",
       "      <th>TENURE</th>\n",
       "    </tr>\n",
       "  </thead>\n",
       "  <tbody>\n",
       "    <tr>\n",
       "      <th>0</th>\n",
       "      <td>-1.718893</td>\n",
       "      <td>-1.072940</td>\n",
       "      <td>0.535684</td>\n",
       "      <td>12</td>\n",
       "    </tr>\n",
       "    <tr>\n",
       "      <th>1</th>\n",
       "      <td>-1.169308</td>\n",
       "      <td>2.509320</td>\n",
       "      <td>0.627874</td>\n",
       "      <td>12</td>\n",
       "    </tr>\n",
       "    <tr>\n",
       "      <th>2</th>\n",
       "      <td>0.938415</td>\n",
       "      <td>-0.382600</td>\n",
       "      <td>0.161250</td>\n",
       "      <td>12</td>\n",
       "    </tr>\n",
       "    <tr>\n",
       "      <th>3</th>\n",
       "      <td>-0.907503</td>\n",
       "      <td>0.045859</td>\n",
       "      <td>1.521620</td>\n",
       "      <td>12</td>\n",
       "    </tr>\n",
       "    <tr>\n",
       "      <th>4</th>\n",
       "      <td>-1.637830</td>\n",
       "      <td>-0.684975</td>\n",
       "      <td>0.425713</td>\n",
       "      <td>12</td>\n",
       "    </tr>\n",
       "  </tbody>\n",
       "</table>\n",
       "</div>"
      ],
      "text/plain": [
       "   principal component 1  principal component 2  principal component 3  TENURE\n",
       "0              -1.718893              -1.072940               0.535684      12\n",
       "1              -1.169308               2.509320               0.627874      12\n",
       "2               0.938415              -0.382600               0.161250      12\n",
       "3              -0.907503               0.045859               1.521620      12\n",
       "4              -1.637830              -0.684975               0.425713      12"
      ]
     },
     "execution_count": 11,
     "metadata": {},
     "output_type": "execute_result"
    }
   ],
   "source": [
    "scaler = StandardScaler()\n",
    "scaler.fit(x)\n",
    "X_scaled_array = scaler.transform(x)\n",
    "#PCA\n",
    "pca = PCA(3)\n",
    "x_pca = pca.fit_transform(X_scaled_array)\n",
    "principalDf = pd.DataFrame(data = x_pca, columns = ['principal component 1', 'principal component 2','principal component 3'])\n",
    "finalDf = pd.concat([principalDf, dataset_CC.iloc[:,-1]], axis = 1)\n",
    "finalDf.head()"
   ]
  },
  {
   "cell_type": "code",
   "execution_count": 12,
   "metadata": {
    "colab": {
     "base_uri": "https://localhost:8080/"
    },
    "id": "BmbkcbXvZm3s",
    "outputId": "d1792a63-c36a-418b-f64c-fb6fd8e1129d"
   },
   "outputs": [
    {
     "name": "stdout",
     "output_type": "stream",
     "text": [
      "(8950, 3) (8950,)\n"
     ]
    }
   ],
   "source": [
    "X = finalDf.iloc[:,0:-1]\n",
    "y = finalDf[\"TENURE\"]\n",
    "print(X.shape,y.shape)"
   ]
  },
  {
   "cell_type": "code",
   "execution_count": 13,
   "metadata": {
    "colab": {
     "base_uri": "https://localhost:8080/",
     "height": 547
    },
    "id": "v7AjjvkIZsvR",
    "outputId": "1db2ef63-e7a2-40c7-f8b5-7ea8a1613c25"
   },
   "outputs": [
    {
     "name": "stdout",
     "output_type": "stream",
     "text": [
      "              precision    recall  f1-score   support\n",
      "\n",
      "           0       0.00      1.00      0.00       0.0\n",
      "           1       0.00      1.00      0.00       0.0\n",
      "           2       0.00      1.00      0.00       0.0\n",
      "           6       1.00      0.00      0.00     139.0\n",
      "           7       1.00      0.00      0.00     135.0\n",
      "           8       1.00      0.00      0.00     128.0\n",
      "           9       1.00      0.00      0.00     118.0\n",
      "          10       1.00      0.00      0.00     151.0\n",
      "          11       1.00      0.00      0.00     262.0\n",
      "          12       1.00      0.00      0.00    4974.0\n",
      "\n",
      "    accuracy                           0.00    5907.0\n",
      "   macro avg       0.70      0.30      0.00    5907.0\n",
      "weighted avg       1.00      0.00      0.00    5907.0\n",
      "\n",
      "[[   0    0    0    0    0    0    0    0    0    0]\n",
      " [   0    0    0    0    0    0    0    0    0    0]\n",
      " [   0    0    0    0    0    0    0    0    0    0]\n",
      " [ 105    4   30    0    0    0    0    0    0    0]\n",
      " [ 107    1   27    0    0    0    0    0    0    0]\n",
      " [  96    4   28    0    0    0    0    0    0    0]\n",
      " [  89    2   27    0    0    0    0    0    0    0]\n",
      " [ 107    6   38    0    0    0    0    0    0    0]\n",
      " [ 184   11   67    0    0    0    0    0    0    0]\n",
      " [3407  723  844    0    0    0    0    0    0    0]]\n",
      "Accuracy for our Training dataset with PCA: 0.0\n",
      "Sihouette Score:  0.3813540852244374\n"
     ]
    },
    {
     "data": {
      "text/plain": [
       "'\\nSihouette Score- ranges from −1 to +1 , a high value indicates that the object is well matched to its own cluster and poorly matched to neighboring clusters.\\n'"
      ]
     },
     "execution_count": 13,
     "metadata": {},
     "output_type": "execute_result"
    }
   ],
   "source": [
    "X_train, X_test, y_train, y_test = train_test_split(X,y, test_size=0.34,random_state=0)\n",
    "nclusters = 3 \n",
    "\n",
    "km = KMeans(n_clusters=nclusters)\n",
    "km.fit(X_train,y_train)\n",
    "\n",
    "y_clus_train = km.predict(X_train)\n",
    "\n",
    "\n",
    "print(classification_report(y_train, y_clus_train, zero_division=1))\n",
    "print(confusion_matrix(y_train, y_clus_train))\n",
    "\n",
    "train_accuracy = accuracy_score(y_train, y_clus_train)\n",
    "print(\"Accuracy for our Training dataset with PCA:\", train_accuracy)\n",
    "\n",
    "#Calculate sihouette Score\n",
    "score = metrics.silhouette_score(X_train, y_clus_train)\n",
    "print(\"Sihouette Score: \",score) \n",
    "\n",
    "\"\"\"\n",
    "Sihouette Score- ranges from −1 to +1 , a high value indicates that the object is well matched to its own cluster and poorly matched to neighboring clusters.\n",
    "\"\"\""
   ]
  },
  {
   "cell_type": "code",
   "execution_count": 14,
   "metadata": {
    "colab": {
     "base_uri": "https://localhost:8080/",
     "height": 564
    },
    "id": "P8aBY_3jZu0_",
    "outputId": "154c8d24-5b1e-430c-fb6e-70d88980ce5e"
   },
   "outputs": [
    {
     "name": "stdout",
     "output_type": "stream",
     "text": [
      "              precision    recall  f1-score   support\n",
      "\n",
      "           0       0.00      1.00      0.00       0.0\n",
      "           1       0.00      1.00      0.00       0.0\n",
      "           2       0.00      1.00      0.00       0.0\n",
      "           6       1.00      0.00      0.00      65.0\n",
      "           7       1.00      0.00      0.00      55.0\n",
      "           8       1.00      0.00      0.00      68.0\n",
      "           9       1.00      0.00      0.00      57.0\n",
      "          10       1.00      0.00      0.00      85.0\n",
      "          11       1.00      0.00      0.00     103.0\n",
      "          12       1.00      0.00      0.00    2610.0\n",
      "\n",
      "    accuracy                           0.00    3043.0\n",
      "   macro avg       0.70      0.30      0.00    3043.0\n",
      "weighted avg       1.00      0.00      0.00    3043.0\n",
      "\n",
      "[[   0    0    0    0    0    0    0    0    0    0]\n",
      " [   0    0    0    0    0    0    0    0    0    0]\n",
      " [   0    0    0    0    0    0    0    0    0    0]\n",
      " [  41    3   21    0    0    0    0    0    0    0]\n",
      " [  43    0   12    0    0    0    0    0    0    0]\n",
      " [  57    1   10    0    0    0    0    0    0    0]\n",
      " [  35    0   22    0    0    0    0    0    0    0]\n",
      " [  63    5   17    0    0    0    0    0    0    0]\n",
      " [  68    4   31    0    0    0    0    0    0    0]\n",
      " [1775  382  453    0    0    0    0    0    0    0]]\n",
      "\n",
      "Accuracy for our Training dataset with PCA: 0.0\n",
      "Sihouette Score:  0.38425023154133825\n"
     ]
    },
    {
     "data": {
      "text/plain": [
       "'\\nSihouette Score- ranges from −1 to +1 , a high value indicates that the object is well matched to its own cluster and poorly matched to neighboring clusters.\\n'"
      ]
     },
     "execution_count": 14,
     "metadata": {},
     "output_type": "execute_result"
    }
   ],
   "source": [
    "# predict the cluster for each testing data point\n",
    "y_clus_test = km.predict(X_test)\n",
    "\n",
    "print(classification_report(y_test, y_clus_test, zero_division=1))\n",
    "print(confusion_matrix(y_test, y_clus_test))\n",
    "\n",
    "train_accuracy = accuracy_score(y_test, y_clus_test)\n",
    "print(\"\\nAccuracy for our Training dataset with PCA:\", train_accuracy)\n",
    "\n",
    "#Calculate sihouette Score\n",
    "score = metrics.silhouette_score(X_test, y_clus_test)\n",
    "print(\"Sihouette Score: \",score) \n",
    "\n",
    "\"\"\"\n",
    "Sihouette Score- ranges from −1 to +1 , a high value indicates that the object is well matched to its own cluster and poorly matched to neighboring clusters.\n",
    "\"\"\""
   ]
  },
  {
   "cell_type": "code",
   "execution_count": 15,
   "metadata": {
    "colab": {
     "base_uri": "https://localhost:8080/"
    },
    "id": "Edl4NQhJZ2bU",
    "outputId": "01b18a65-df3c-475e-da49-7916944359fe"
   },
   "outputs": [
    {
     "name": "stdout",
     "output_type": "stream",
     "text": [
      "<class 'pandas.core.frame.DataFrame'>\n",
      "RangeIndex: 756 entries, 0 to 755\n",
      "Columns: 755 entries, id to class\n",
      "dtypes: float64(749), int64(6)\n",
      "memory usage: 4.4 MB\n"
     ]
    }
   ],
   "source": [
    "dataset_pd = pd.read_csv('C:/Users/anilk/Downloads/datasets/pd_speech_features.csv')\n",
    "dataset_pd.info()"
   ]
  },
  {
   "cell_type": "code",
   "execution_count": 16,
   "metadata": {
    "colab": {
     "base_uri": "https://localhost:8080/",
     "height": 285
    },
    "id": "wC2QSEnoaaW-",
    "outputId": "872f8fdb-ea6f-4ca7-d9ee-c689e83a1755"
   },
   "outputs": [
    {
     "data": {
      "text/html": [
       "<div>\n",
       "<style scoped>\n",
       "    .dataframe tbody tr th:only-of-type {\n",
       "        vertical-align: middle;\n",
       "    }\n",
       "\n",
       "    .dataframe tbody tr th {\n",
       "        vertical-align: top;\n",
       "    }\n",
       "\n",
       "    .dataframe thead th {\n",
       "        text-align: right;\n",
       "    }\n",
       "</style>\n",
       "<table border=\"1\" class=\"dataframe\">\n",
       "  <thead>\n",
       "    <tr style=\"text-align: right;\">\n",
       "      <th></th>\n",
       "      <th>id</th>\n",
       "      <th>gender</th>\n",
       "      <th>PPE</th>\n",
       "      <th>DFA</th>\n",
       "      <th>RPDE</th>\n",
       "      <th>numPulses</th>\n",
       "      <th>numPeriodsPulses</th>\n",
       "      <th>meanPeriodPulses</th>\n",
       "      <th>stdDevPeriodPulses</th>\n",
       "      <th>locPctJitter</th>\n",
       "      <th>...</th>\n",
       "      <th>tqwt_kurtosisValue_dec_28</th>\n",
       "      <th>tqwt_kurtosisValue_dec_29</th>\n",
       "      <th>tqwt_kurtosisValue_dec_30</th>\n",
       "      <th>tqwt_kurtosisValue_dec_31</th>\n",
       "      <th>tqwt_kurtosisValue_dec_32</th>\n",
       "      <th>tqwt_kurtosisValue_dec_33</th>\n",
       "      <th>tqwt_kurtosisValue_dec_34</th>\n",
       "      <th>tqwt_kurtosisValue_dec_35</th>\n",
       "      <th>tqwt_kurtosisValue_dec_36</th>\n",
       "      <th>class</th>\n",
       "    </tr>\n",
       "  </thead>\n",
       "  <tbody>\n",
       "    <tr>\n",
       "      <th>0</th>\n",
       "      <td>0</td>\n",
       "      <td>1</td>\n",
       "      <td>0.85247</td>\n",
       "      <td>0.71826</td>\n",
       "      <td>0.57227</td>\n",
       "      <td>240</td>\n",
       "      <td>239</td>\n",
       "      <td>0.008064</td>\n",
       "      <td>0.000087</td>\n",
       "      <td>0.00218</td>\n",
       "      <td>...</td>\n",
       "      <td>1.5620</td>\n",
       "      <td>2.6445</td>\n",
       "      <td>3.8686</td>\n",
       "      <td>4.2105</td>\n",
       "      <td>5.1221</td>\n",
       "      <td>4.4625</td>\n",
       "      <td>2.6202</td>\n",
       "      <td>3.0004</td>\n",
       "      <td>18.9405</td>\n",
       "      <td>1</td>\n",
       "    </tr>\n",
       "    <tr>\n",
       "      <th>1</th>\n",
       "      <td>0</td>\n",
       "      <td>1</td>\n",
       "      <td>0.76686</td>\n",
       "      <td>0.69481</td>\n",
       "      <td>0.53966</td>\n",
       "      <td>234</td>\n",
       "      <td>233</td>\n",
       "      <td>0.008258</td>\n",
       "      <td>0.000073</td>\n",
       "      <td>0.00195</td>\n",
       "      <td>...</td>\n",
       "      <td>1.5589</td>\n",
       "      <td>3.6107</td>\n",
       "      <td>23.5155</td>\n",
       "      <td>14.1962</td>\n",
       "      <td>11.0261</td>\n",
       "      <td>9.5082</td>\n",
       "      <td>6.5245</td>\n",
       "      <td>6.3431</td>\n",
       "      <td>45.1780</td>\n",
       "      <td>1</td>\n",
       "    </tr>\n",
       "    <tr>\n",
       "      <th>2</th>\n",
       "      <td>0</td>\n",
       "      <td>1</td>\n",
       "      <td>0.85083</td>\n",
       "      <td>0.67604</td>\n",
       "      <td>0.58982</td>\n",
       "      <td>232</td>\n",
       "      <td>231</td>\n",
       "      <td>0.008340</td>\n",
       "      <td>0.000060</td>\n",
       "      <td>0.00176</td>\n",
       "      <td>...</td>\n",
       "      <td>1.5643</td>\n",
       "      <td>2.3308</td>\n",
       "      <td>9.4959</td>\n",
       "      <td>10.7458</td>\n",
       "      <td>11.0177</td>\n",
       "      <td>4.8066</td>\n",
       "      <td>2.9199</td>\n",
       "      <td>3.1495</td>\n",
       "      <td>4.7666</td>\n",
       "      <td>1</td>\n",
       "    </tr>\n",
       "    <tr>\n",
       "      <th>3</th>\n",
       "      <td>1</td>\n",
       "      <td>0</td>\n",
       "      <td>0.41121</td>\n",
       "      <td>0.79672</td>\n",
       "      <td>0.59257</td>\n",
       "      <td>178</td>\n",
       "      <td>177</td>\n",
       "      <td>0.010858</td>\n",
       "      <td>0.000183</td>\n",
       "      <td>0.00419</td>\n",
       "      <td>...</td>\n",
       "      <td>3.7805</td>\n",
       "      <td>3.5664</td>\n",
       "      <td>5.2558</td>\n",
       "      <td>14.0403</td>\n",
       "      <td>4.2235</td>\n",
       "      <td>4.6857</td>\n",
       "      <td>4.8460</td>\n",
       "      <td>6.2650</td>\n",
       "      <td>4.0603</td>\n",
       "      <td>1</td>\n",
       "    </tr>\n",
       "    <tr>\n",
       "      <th>4</th>\n",
       "      <td>1</td>\n",
       "      <td>0</td>\n",
       "      <td>0.32790</td>\n",
       "      <td>0.79782</td>\n",
       "      <td>0.53028</td>\n",
       "      <td>236</td>\n",
       "      <td>235</td>\n",
       "      <td>0.008162</td>\n",
       "      <td>0.002669</td>\n",
       "      <td>0.00535</td>\n",
       "      <td>...</td>\n",
       "      <td>6.1727</td>\n",
       "      <td>5.8416</td>\n",
       "      <td>6.0805</td>\n",
       "      <td>5.7621</td>\n",
       "      <td>7.7817</td>\n",
       "      <td>11.6891</td>\n",
       "      <td>8.2103</td>\n",
       "      <td>5.0559</td>\n",
       "      <td>6.1164</td>\n",
       "      <td>1</td>\n",
       "    </tr>\n",
       "  </tbody>\n",
       "</table>\n",
       "<p>5 rows × 755 columns</p>\n",
       "</div>"
      ],
      "text/plain": [
       "   id  gender      PPE      DFA     RPDE  numPulses  numPeriodsPulses  \\\n",
       "0   0       1  0.85247  0.71826  0.57227        240               239   \n",
       "1   0       1  0.76686  0.69481  0.53966        234               233   \n",
       "2   0       1  0.85083  0.67604  0.58982        232               231   \n",
       "3   1       0  0.41121  0.79672  0.59257        178               177   \n",
       "4   1       0  0.32790  0.79782  0.53028        236               235   \n",
       "\n",
       "   meanPeriodPulses  stdDevPeriodPulses  locPctJitter  ...  \\\n",
       "0          0.008064            0.000087       0.00218  ...   \n",
       "1          0.008258            0.000073       0.00195  ...   \n",
       "2          0.008340            0.000060       0.00176  ...   \n",
       "3          0.010858            0.000183       0.00419  ...   \n",
       "4          0.008162            0.002669       0.00535  ...   \n",
       "\n",
       "   tqwt_kurtosisValue_dec_28  tqwt_kurtosisValue_dec_29  \\\n",
       "0                     1.5620                     2.6445   \n",
       "1                     1.5589                     3.6107   \n",
       "2                     1.5643                     2.3308   \n",
       "3                     3.7805                     3.5664   \n",
       "4                     6.1727                     5.8416   \n",
       "\n",
       "   tqwt_kurtosisValue_dec_30  tqwt_kurtosisValue_dec_31  \\\n",
       "0                     3.8686                     4.2105   \n",
       "1                    23.5155                    14.1962   \n",
       "2                     9.4959                    10.7458   \n",
       "3                     5.2558                    14.0403   \n",
       "4                     6.0805                     5.7621   \n",
       "\n",
       "   tqwt_kurtosisValue_dec_32  tqwt_kurtosisValue_dec_33  \\\n",
       "0                     5.1221                     4.4625   \n",
       "1                    11.0261                     9.5082   \n",
       "2                    11.0177                     4.8066   \n",
       "3                     4.2235                     4.6857   \n",
       "4                     7.7817                    11.6891   \n",
       "\n",
       "   tqwt_kurtosisValue_dec_34  tqwt_kurtosisValue_dec_35  \\\n",
       "0                     2.6202                     3.0004   \n",
       "1                     6.5245                     6.3431   \n",
       "2                     2.9199                     3.1495   \n",
       "3                     4.8460                     6.2650   \n",
       "4                     8.2103                     5.0559   \n",
       "\n",
       "   tqwt_kurtosisValue_dec_36  class  \n",
       "0                    18.9405      1  \n",
       "1                    45.1780      1  \n",
       "2                     4.7666      1  \n",
       "3                     4.0603      1  \n",
       "4                     6.1164      1  \n",
       "\n",
       "[5 rows x 755 columns]"
      ]
     },
     "execution_count": 16,
     "metadata": {},
     "output_type": "execute_result"
    }
   ],
   "source": [
    "dataset_pd.head()"
   ]
  },
  {
   "cell_type": "code",
   "execution_count": 17,
   "metadata": {
    "colab": {
     "base_uri": "https://localhost:8080/"
    },
    "id": "DUwtOj7dadIs",
    "outputId": "91c32b23-594a-4cf8-cba4-577d3d7d5618"
   },
   "outputs": [
    {
     "data": {
      "text/plain": [
       "id                           False\n",
       "gender                       False\n",
       "PPE                          False\n",
       "DFA                          False\n",
       "RPDE                         False\n",
       "                             ...  \n",
       "tqwt_kurtosisValue_dec_33    False\n",
       "tqwt_kurtosisValue_dec_34    False\n",
       "tqwt_kurtosisValue_dec_35    False\n",
       "tqwt_kurtosisValue_dec_36    False\n",
       "class                        False\n",
       "Length: 755, dtype: bool"
      ]
     },
     "execution_count": 17,
     "metadata": {},
     "output_type": "execute_result"
    }
   ],
   "source": [
    "dataset_pd.isnull().any()"
   ]
  },
  {
   "cell_type": "code",
   "execution_count": 18,
   "metadata": {
    "id": "lUkbxsNiahYW"
   },
   "outputs": [],
   "source": [
    "X = dataset_pd.drop('class',axis=1).values\n",
    "y = dataset_pd['class'].values"
   ]
  },
  {
   "cell_type": "code",
   "execution_count": 19,
   "metadata": {
    "id": "rotU_9R_alwA"
   },
   "outputs": [],
   "source": [
    "scaler = StandardScaler()\n",
    "X_Scale = scaler.fit_transform(X)"
   ]
  },
  {
   "cell_type": "code",
   "execution_count": 20,
   "metadata": {
    "colab": {
     "base_uri": "https://localhost:8080/",
     "height": 204
    },
    "id": "IkEIuqgNaob_",
    "outputId": "70b97fc6-7fe0-44dc-b231-c6d5aaa54c71"
   },
   "outputs": [
    {
     "data": {
      "text/html": [
       "<div>\n",
       "<style scoped>\n",
       "    .dataframe tbody tr th:only-of-type {\n",
       "        vertical-align: middle;\n",
       "    }\n",
       "\n",
       "    .dataframe tbody tr th {\n",
       "        vertical-align: top;\n",
       "    }\n",
       "\n",
       "    .dataframe thead th {\n",
       "        text-align: right;\n",
       "    }\n",
       "</style>\n",
       "<table border=\"1\" class=\"dataframe\">\n",
       "  <thead>\n",
       "    <tr style=\"text-align: right;\">\n",
       "      <th></th>\n",
       "      <th>principal component 1</th>\n",
       "      <th>principal component 2</th>\n",
       "      <th>Principal Component 3</th>\n",
       "      <th>class</th>\n",
       "    </tr>\n",
       "  </thead>\n",
       "  <tbody>\n",
       "    <tr>\n",
       "      <th>0</th>\n",
       "      <td>-10.047372</td>\n",
       "      <td>1.471076</td>\n",
       "      <td>-6.846402</td>\n",
       "      <td>1</td>\n",
       "    </tr>\n",
       "    <tr>\n",
       "      <th>1</th>\n",
       "      <td>-10.637725</td>\n",
       "      <td>1.583750</td>\n",
       "      <td>-6.830980</td>\n",
       "      <td>1</td>\n",
       "    </tr>\n",
       "    <tr>\n",
       "      <th>2</th>\n",
       "      <td>-13.516185</td>\n",
       "      <td>-1.253542</td>\n",
       "      <td>-6.818698</td>\n",
       "      <td>1</td>\n",
       "    </tr>\n",
       "    <tr>\n",
       "      <th>3</th>\n",
       "      <td>-9.155085</td>\n",
       "      <td>8.833605</td>\n",
       "      <td>15.290881</td>\n",
       "      <td>1</td>\n",
       "    </tr>\n",
       "    <tr>\n",
       "      <th>4</th>\n",
       "      <td>-6.764471</td>\n",
       "      <td>4.611473</td>\n",
       "      <td>15.637093</td>\n",
       "      <td>1</td>\n",
       "    </tr>\n",
       "  </tbody>\n",
       "</table>\n",
       "</div>"
      ],
      "text/plain": [
       "   principal component 1  principal component 2  Principal Component 3  class\n",
       "0             -10.047372               1.471076              -6.846402      1\n",
       "1             -10.637725               1.583750              -6.830980      1\n",
       "2             -13.516185              -1.253542              -6.818698      1\n",
       "3              -9.155085               8.833605              15.290881      1\n",
       "4              -6.764471               4.611473              15.637093      1"
      ]
     },
     "execution_count": 20,
     "metadata": {},
     "output_type": "execute_result"
    }
   ],
   "source": [
    "pca3 = PCA(n_components=3)\n",
    "principalComponents = pca3.fit_transform(X_Scale)\n",
    "\n",
    "principalDf = pd.DataFrame(data = principalComponents, columns = ['principal component 1', 'principal component 2','Principal Component 3'])\n",
    "\n",
    "finalDf = pd.concat([principalDf, dataset_pd[['class']]], axis = 1)\n",
    "finalDf.head()"
   ]
  },
  {
   "cell_type": "code",
   "execution_count": 21,
   "metadata": {
    "id": "4-kR0A7jap4n"
   },
   "outputs": [],
   "source": [
    "X = finalDf.drop('class',axis=1).values\n",
    "y = finalDf['class'].values\n",
    "X_train, X_test, y_train, y_test = train_test_split(X,y, test_size=0.34,random_state=0)"
   ]
  },
  {
   "cell_type": "code",
   "execution_count": 22,
   "metadata": {
    "colab": {
     "base_uri": "https://localhost:8080/"
    },
    "id": "ghle3ag_aug6",
    "outputId": "10b8d03e-81a3-4c91-ea29-3ba0ebe91c4f"
   },
   "outputs": [
    {
     "name": "stdout",
     "output_type": "stream",
     "text": [
      "              precision    recall  f1-score   support\n",
      "\n",
      "           0       0.67      0.42      0.51        62\n",
      "           1       0.84      0.93      0.88       196\n",
      "\n",
      "    accuracy                           0.81       258\n",
      "   macro avg       0.75      0.68      0.70       258\n",
      "weighted avg       0.80      0.81      0.79       258\n",
      "\n",
      "[[ 26  36]\n",
      " [ 13 183]]\n",
      "accuracy is 0.810077519379845\n",
      "Sihouette Score:  0.2504463860078784\n"
     ]
    }
   ],
   "source": [
    "from sklearn.svm import SVC\n",
    "\n",
    "svmClassifier = SVC()\n",
    "svmClassifier.fit(X_train, y_train)\n",
    "\n",
    "y_pred = svmClassifier.predict(X_test)\n",
    "\n",
    "# Summary of the predictions made by the classifier\n",
    "print(classification_report(y_test, y_pred, zero_division=1))\n",
    "print(confusion_matrix(y_test, y_pred))\n",
    "# Accuracy score\n",
    "glass_acc_svc = accuracy_score(y_pred,y_test)\n",
    "print('accuracy is',glass_acc_svc )\n",
    "\n",
    "#Calculate sihouette Score\n",
    "score = metrics.silhouette_score(X_test, y_pred)\n",
    "print(\"Sihouette Score: \",score) \n"
   ]
  },
  {
   "cell_type": "code",
   "execution_count": 23,
   "metadata": {
    "colab": {
     "base_uri": "https://localhost:8080/"
    },
    "id": "x9gg0xU6ayDz",
    "outputId": "e3f6de1b-74ba-4339-9798-25ef93b47347"
   },
   "outputs": [
    {
     "name": "stdout",
     "output_type": "stream",
     "text": [
      "<class 'pandas.core.frame.DataFrame'>\n",
      "RangeIndex: 150 entries, 0 to 149\n",
      "Data columns (total 6 columns):\n",
      " #   Column         Non-Null Count  Dtype  \n",
      "---  ------         --------------  -----  \n",
      " 0   Id             150 non-null    int64  \n",
      " 1   SepalLengthCm  150 non-null    float64\n",
      " 2   SepalWidthCm   150 non-null    float64\n",
      " 3   PetalLengthCm  150 non-null    float64\n",
      " 4   PetalWidthCm   150 non-null    float64\n",
      " 5   Species        150 non-null    object \n",
      "dtypes: float64(4), int64(1), object(1)\n",
      "memory usage: 7.2+ KB\n"
     ]
    }
   ],
   "source": [
    "from sklearn.discriminant_analysis import LinearDiscriminantAnalysis\n",
    "dataset_iris = pd.read_csv('C:/Users/anilk/Downloads/datasets/Iris.csv')\n",
    "dataset_iris.info()"
   ]
  },
  {
   "cell_type": "code",
   "execution_count": 24,
   "metadata": {
    "colab": {
     "base_uri": "https://localhost:8080/"
    },
    "id": "WKKFXckfa6As",
    "outputId": "f47cc3a9-582e-4c79-9685-bceb4ff05319"
   },
   "outputs": [
    {
     "data": {
      "text/plain": [
       "Id               False\n",
       "SepalLengthCm    False\n",
       "SepalWidthCm     False\n",
       "PetalLengthCm    False\n",
       "PetalWidthCm     False\n",
       "Species          False\n",
       "dtype: bool"
      ]
     },
     "execution_count": 24,
     "metadata": {},
     "output_type": "execute_result"
    }
   ],
   "source": [
    "dataset_iris.isnull().any()"
   ]
  },
  {
   "cell_type": "code",
   "execution_count": 25,
   "metadata": {
    "colab": {
     "base_uri": "https://localhost:8080/"
    },
    "id": "85BGjoMka_X_",
    "outputId": "98c37b94-603f-4a02-8e30-8e6aecd93dad"
   },
   "outputs": [
    {
     "name": "stdout",
     "output_type": "stream",
     "text": [
      "(150, 4) (150,)\n"
     ]
    }
   ],
   "source": [
    "x = dataset_iris.iloc[:,1:-1]\n",
    "y = dataset_iris.iloc[:,-1]\n",
    "print(x.shape,y.shape)"
   ]
  },
  {
   "cell_type": "code",
   "execution_count": 26,
   "metadata": {
    "id": "OF0GbCXybDNs"
   },
   "outputs": [],
   "source": [
    "X_train, X_test, y_train, y_test = train_test_split(x, y, test_size=0.3, random_state=0)"
   ]
  },
  {
   "cell_type": "code",
   "execution_count": 27,
   "metadata": {
    "id": "UeTNCtCLbFtA"
   },
   "outputs": [],
   "source": [
    "X_train, X_test, y_train, y_test = train_test_split(x, y, test_size=0.3, random_state=0)"
   ]
  },
  {
   "cell_type": "code",
   "execution_count": 28,
   "metadata": {
    "colab": {
     "base_uri": "https://localhost:8080/"
    },
    "id": "Iu68y5UxbIgC",
    "outputId": "fbd7834c-9a9d-4630-e10f-c63453000884"
   },
   "outputs": [
    {
     "name": "stdout",
     "output_type": "stream",
     "text": [
      "(105, 2) (45, 2)\n"
     ]
    }
   ],
   "source": [
    "from sklearn.discriminant_analysis import LinearDiscriminantAnalysis as LDA\n",
    "lda = LDA(n_components=2)\n",
    "X_train = lda.fit_transform(X_train, y_train)\n",
    "X_test = lda.transform(X_test)\n",
    "print(X_train.shape,X_test.shape)"
   ]
  },
  {
   "cell_type": "code",
   "execution_count": 29,
   "metadata": {
    "colab": {
     "base_uri": "https://localhost:8080/",
     "height": 71
    },
    "id": "4_u5JxAEbN-j",
    "outputId": "969122cb-df8e-46ef-f32b-1c4fe9ee924e"
   },
   "outputs": [
    {
     "data": {
      "text/plain": [
       "'Both LDA and PCA rely on linear transformations and aim to maximize the variance in a lower dimension. PCA is an unsupervised learning algorithm while LDA is a supervised learning algorithm. This means that PCA finds directions of maximum variance regardless of class labels while LDA finds directions of maximum class separability.'"
      ]
     },
     "execution_count": 29,
     "metadata": {},
     "output_type": "execute_result"
    }
   ],
   "source": [
    "#4. Briefly identify the difference between PCA and LDA\n",
    "\n",
    "\"\"\"Both LDA and PCA rely on linear transformations and aim to maximize the variance in a lower dimension. PCA is an unsupervised learning algorithm while LDA is a supervised learning algorithm. This means that PCA finds directions of maximum variance regardless of class labels while LDA finds directions of maximum class separability.\"\"\""
   ]
  },
  {
   "cell_type": "code",
   "execution_count": 30,
   "metadata": {
    "colab": {
     "base_uri": "https://localhost:8080/",
     "height": 54
    },
    "id": "PfG_U3W-bQ_0",
    "outputId": "49f1fe30-18b5-49d8-e405-42f8951c5b5e"
   },
   "outputs": [
    {
     "data": {
      "text/plain": [
       "'It reduces the features into a smaller subset of orthogonal variables, called principal components – linear combinations of the original variables. The first component captures the largest variability of the data, while the second captures the second largest, and so on.'"
      ]
     },
     "execution_count": 30,
     "metadata": {},
     "output_type": "execute_result"
    }
   ],
   "source": [
    "#PCA\n",
    "\"It reduces the features into a smaller subset of orthogonal variables, called principal components – linear combinations of the original variables. The first component captures the largest variability of the data, while the second captures the second largest, and so on.\""
   ]
  },
  {
   "cell_type": "code",
   "execution_count": 31,
   "metadata": {
    "colab": {
     "base_uri": "https://localhost:8080/",
     "height": 37
    },
    "id": "Jg50W22EbTM7",
    "outputId": "59c03384-1e8a-4d53-8199-60404f66fe60"
   },
   "outputs": [
    {
     "data": {
      "text/plain": [
       "'LDA finds the linear discriminants in order to maximize the variance between the different categories while minimizing the variance within the class.'"
      ]
     },
     "execution_count": 31,
     "metadata": {},
     "output_type": "execute_result"
    }
   ],
   "source": [
    "#LDA\n",
    "\"LDA finds the linear discriminants in order to maximize the variance between the different categories while minimizing the variance within the class.\""
   ]
  },
  {
   "cell_type": "code",
   "execution_count": null,
   "metadata": {},
   "outputs": [],
   "source": []
  }
 ],
 "metadata": {
  "colab": {
   "provenance": []
  },
  "kernelspec": {
   "display_name": "Python 3 (ipykernel)",
   "language": "python",
   "name": "python3"
  },
  "language_info": {
   "codemirror_mode": {
    "name": "ipython",
    "version": 3
   },
   "file_extension": ".py",
   "mimetype": "text/x-python",
   "name": "python",
   "nbconvert_exporter": "python",
   "pygments_lexer": "ipython3",
   "version": "3.10.8"
  }
 },
 "nbformat": 4,
 "nbformat_minor": 1
}
